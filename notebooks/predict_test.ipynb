{
 "cells": [
  {
   "cell_type": "code",
   "execution_count": 1,
   "id": "5afda5e1",
   "metadata": {},
   "outputs": [],
   "source": [
    "import requests\n",
    "%load_ext autoreload\n",
    "%autoreload 2"
   ]
  },
  {
   "cell_type": "markdown",
   "id": "856ecd9e",
   "metadata": {},
   "source": [
    "## Simulating another service that requests our prediction model "
   ]
  },
  {
   "cell_type": "code",
   "execution_count": 2,
   "id": "c1565399",
   "metadata": {},
   "outputs": [],
   "source": [
    "url = 'http://localhost:9696/predict'"
   ]
  },
  {
   "cell_type": "code",
   "execution_count": 3,
   "id": "4678a7f7",
   "metadata": {},
   "outputs": [],
   "source": [
    "patient = {\n",
    "   \"Pregnancies\": 2.0,\n",
    "   \"Glucose\": 204.0,\n",
    "   \"BloodPressure\": 65.0,\n",
    "   \"SkinThickness\": 0.0,\n",
    "   \"Insulin\": 43.0,\n",
    "   \"BMI\": 19.0,\n",
    "   \"DiabetesPedigreeFunction\": 0.49,\n",
    "   \"Age\": 39.0\n",
    "    }"
   ]
  },
  {
   "cell_type": "code",
   "execution_count": 4,
   "id": "1ee9a46e",
   "metadata": {},
   "outputs": [
    {
     "data": {
      "text/plain": [
       "{'prediction': True, 'probability_of_diabetes': 0.5263435886044233}"
      ]
     },
     "execution_count": 4,
     "metadata": {},
     "output_type": "execute_result"
    }
   ],
   "source": [
    "response = requests.post(url, json=patient).json()\n",
    "response"
   ]
  },
  {
   "cell_type": "code",
   "execution_count": 5,
   "id": "fe81249e",
   "metadata": {},
   "outputs": [
    {
     "name": "stdout",
     "output_type": "stream",
     "text": [
      "further diabetes diagnosis necesarry\n"
     ]
    }
   ],
   "source": [
    "if response['prediction'] == True:\n",
    "    print('further diabetes diagnosis necesarry')\n",
    "else:\n",
    "    print('further diabetes diagnosis is not necesarry')"
   ]
  },
  {
   "cell_type": "code",
   "execution_count": null,
   "id": "560e1b9f",
   "metadata": {},
   "outputs": [],
   "source": []
  },
  {
   "cell_type": "code",
   "execution_count": null,
   "id": "08149b3e",
   "metadata": {},
   "outputs": [],
   "source": []
  }
 ],
 "metadata": {
  "kernelspec": {
   "display_name": "Python 3 (ipykernel)",
   "language": "python",
   "name": "python3"
  },
  "language_info": {
   "codemirror_mode": {
    "name": "ipython",
    "version": 3
   },
   "file_extension": ".py",
   "mimetype": "text/x-python",
   "name": "python",
   "nbconvert_exporter": "python",
   "pygments_lexer": "ipython3",
   "version": "3.9.13"
  },
  "toc": {
   "base_numbering": 1,
   "nav_menu": {},
   "number_sections": true,
   "sideBar": true,
   "skip_h1_title": false,
   "title_cell": "Table of Contents",
   "title_sidebar": "Contents",
   "toc_cell": false,
   "toc_position": {},
   "toc_section_display": true,
   "toc_window_display": false
  },
  "vscode": {
   "interpreter": {
    "hash": "736150739e4fb3df6051488b43d6994f529cd492b8cd4a40882204b23398c180"
   }
  }
 },
 "nbformat": 4,
 "nbformat_minor": 5
}
